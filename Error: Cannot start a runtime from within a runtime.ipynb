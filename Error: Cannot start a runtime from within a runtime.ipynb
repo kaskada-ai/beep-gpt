{
 "cells": [
  {
   "cell_type": "markdown",
   "metadata": {},
   "source": [
    "Let users ask for specific types of notifications, for example:\n",
    "\n",
    "\"Hey BeepGPT, let me know when there’s an important engineering decision being made about Kaskada”.\n",
    "\n",
    "This lets us be more explicit about why we’re alerting (ie “you asked for important engineering decisions”),\n",
    "and should simplify the vector search problem - as a first pass we should be able to embed each user’s requests \n",
    "and do a vector distance threshold against each conversation to decide if we should alert.\n",
    "\n",
    "We could also watch for interaction with the notifications BeepGPT sends as a way of providing training feedback \n",
    "to the model. So for example if I add a :+1:  or :thank_you: reaction to the notification we could capture that \n",
    "as a “positive” training example, but if I add a :-1: or threaded reply saying “this message isn’t specific to \n",
    "any projects I’m working on” we could treat that as a “negative” training example (and possibly a refinement to \n",
    "the notification requests)."
   ]
  },
  {
   "cell_type": "code",
   "execution_count": null,
   "metadata": {},
   "outputs": [],
   "source": [
    "%pip install -q llama-index span-marker kaskada==0.6.0a4 \"cassio>=0.1.0\" pillow"
   ]
  },
  {
   "cell_type": "code",
   "execution_count": 1,
   "metadata": {},
   "outputs": [],
   "source": [
    "import pandas as pd\n",
    "import kaskada as kd\n",
    "\n",
    "# Initialize Kaskada with a local execution context.\n",
    "kd.init_session()\n",
    "\n",
    "# set pandas to display all floats with 6 decimal places\n",
    "pd.options.display.float_format = '{:.6f}'.format"
   ]
  },
  {
   "cell_type": "code",
   "execution_count": 2,
   "metadata": {},
   "outputs": [],
   "source": [
    "users_df = pd.read_json(\"/Users/eric.pinzur/Documents/slackbot2000/slack-export/users.json\")\n",
    "\n",
    "columns_to_keep = [\"id\", \"team_id\", \"name\", \"deleted\", \"real_name\", \"is_bot\", \"updated\"]\n",
    "\n",
    "users_df.drop(columns=users_df.columns.difference(columns_to_keep), inplace=True)\n",
    "\n",
    "users = kd.sources.Pandas(\n",
    "    users_df,\n",
    "    time_column = \"updated\",\n",
    "    key_column = \"id\",\n",
    "    time_unit = \"s\"\n",
    ")"
   ]
  },
  {
   "cell_type": "code",
   "execution_count": 3,
   "metadata": {},
   "outputs": [
    {
     "data": {
      "text/plain": [
       "{'_time': Timestamp('2023-01-08 01:20:34'),\n",
       " '_key': 'ULJD5H2A2',\n",
       " 'id': 'ULJD5H2A2',\n",
       " 'team_id': 'TCYRBF6KH',\n",
       " 'name': 'ryan',\n",
       " 'deleted': False,\n",
       " 'real_name': 'Ryan Michael',\n",
       " 'is_bot': False,\n",
       " 'updated': 1673140834}"
      ]
     },
     "execution_count": 3,
     "metadata": {},
     "output_type": "execute_result"
    }
   ],
   "source": [
    "def get_user(user_id):\n",
    "    data = users.filter(users.col(\"id\").eq(user_id)).last().preview().to_dict(orient='index')\n",
    "    return data[0] if len(data) == 1 else None\n",
    "\n",
    "get_user(\"ULJD5H2A2\")"
   ]
  },
  {
   "cell_type": "code",
   "execution_count": 4,
   "metadata": {},
   "outputs": [
    {
     "data": {
      "text/html": [
       "<div>\n",
       "<style scoped>\n",
       "    .dataframe tbody tr th:only-of-type {\n",
       "        vertical-align: middle;\n",
       "    }\n",
       "\n",
       "    .dataframe tbody tr th {\n",
       "        vertical-align: top;\n",
       "    }\n",
       "\n",
       "    .dataframe thead th {\n",
       "        text-align: right;\n",
       "    }\n",
       "</style>\n",
       "<table border=\"1\" class=\"dataframe\">\n",
       "  <thead>\n",
       "    <tr style=\"text-align: right;\">\n",
       "      <th></th>\n",
       "      <th>_time</th>\n",
       "      <th>_key</th>\n",
       "      <th>text</th>\n",
       "      <th>user</th>\n",
       "      <th>ts</th>\n",
       "      <th>thread_ts</th>\n",
       "      <th>reactions</th>\n",
       "      <th>channel</th>\n",
       "    </tr>\n",
       "  </thead>\n",
       "  <tbody>\n",
       "    <tr>\n",
       "      <th>0</th>\n",
       "      <td>2021-07-01 14:26:27.342999808</td>\n",
       "      <td>team-api</td>\n",
       "      <td>&lt;@ULJD5H2A2&gt; available to talk about errors?</td>\n",
       "      <td>U016TM9NXEY</td>\n",
       "      <td>1625149587.343000</td>\n",
       "      <td>NaN</td>\n",
       "      <td>None</td>\n",
       "      <td>team-api</td>\n",
       "    </tr>\n",
       "    <tr>\n",
       "      <th>1</th>\n",
       "      <td>2021-07-01 15:18:28.343499776</td>\n",
       "      <td>team-api</td>\n",
       "      <td>&lt;@ULJD5H2A2&gt; &lt;https://gitlab.com/kaskada/kaska...</td>\n",
       "      <td>U016TM9NXEY</td>\n",
       "      <td>1625152708.343500</td>\n",
       "      <td>NaN</td>\n",
       "      <td>None</td>\n",
       "      <td>team-api</td>\n",
       "    </tr>\n",
       "    <tr>\n",
       "      <th>2</th>\n",
       "      <td>2021-07-01 15:18:43.344000000</td>\n",
       "      <td>team-api</td>\n",
       "      <td>Looks like Go sets the transfer encoding if yo...</td>\n",
       "      <td>ULJD5H2A2</td>\n",
       "      <td>1625152723.344000</td>\n",
       "      <td>NaN</td>\n",
       "      <td>None</td>\n",
       "      <td>team-api</td>\n",
       "    </tr>\n",
       "    <tr>\n",
       "      <th>3</th>\n",
       "      <td>2021-07-01 15:18:44.344300032</td>\n",
       "      <td>team-api</td>\n",
       "      <td>working now</td>\n",
       "      <td>ULJD5H2A2</td>\n",
       "      <td>1625152724.344300</td>\n",
       "      <td>NaN</td>\n",
       "      <td>[{'count': 1, 'name': 'twinsparrot', 'users': ...</td>\n",
       "      <td>team-api</td>\n",
       "    </tr>\n",
       "    <tr>\n",
       "      <th>4</th>\n",
       "      <td>2021-07-01 15:22:19.344600064</td>\n",
       "      <td>team-api</td>\n",
       "      <td>&lt;@U016TM9NXEY&gt; &lt;https://gitlab.com/kaskada/kas...</td>\n",
       "      <td>ULJD5H2A2</td>\n",
       "      <td>1625152939.344600</td>\n",
       "      <td>NaN</td>\n",
       "      <td>[{'count': 1, 'name': 'eyes', 'users': ['U016T...</td>\n",
       "      <td>team-api</td>\n",
       "    </tr>\n",
       "  </tbody>\n",
       "</table>\n",
       "</div>"
      ],
      "text/plain": [
       "                          _time      _key  \\\n",
       "0 2021-07-01 14:26:27.342999808  team-api   \n",
       "1 2021-07-01 15:18:28.343499776  team-api   \n",
       "2 2021-07-01 15:18:43.344000000  team-api   \n",
       "3 2021-07-01 15:18:44.344300032  team-api   \n",
       "4 2021-07-01 15:22:19.344600064  team-api   \n",
       "\n",
       "                                                text         user  \\\n",
       "0       <@ULJD5H2A2> available to talk about errors?  U016TM9NXEY   \n",
       "1  <@ULJD5H2A2> <https://gitlab.com/kaskada/kaska...  U016TM9NXEY   \n",
       "2  Looks like Go sets the transfer encoding if yo...    ULJD5H2A2   \n",
       "3                                        working now    ULJD5H2A2   \n",
       "4  <@U016TM9NXEY> <https://gitlab.com/kaskada/kas...    ULJD5H2A2   \n",
       "\n",
       "                 ts  thread_ts  \\\n",
       "0 1625149587.343000        NaN   \n",
       "1 1625152708.343500        NaN   \n",
       "2 1625152723.344000        NaN   \n",
       "3 1625152724.344300        NaN   \n",
       "4 1625152939.344600        NaN   \n",
       "\n",
       "                                           reactions   channel  \n",
       "0                                               None  team-api  \n",
       "1                                               None  team-api  \n",
       "2                                               None  team-api  \n",
       "3  [{'count': 1, 'name': 'twinsparrot', 'users': ...  team-api  \n",
       "4  [{'count': 1, 'name': 'eyes', 'users': ['U016T...  team-api  "
      ]
     },
     "execution_count": 4,
     "metadata": {},
     "output_type": "execute_result"
    }
   ],
   "source": [
    "# Use the \"ts\" column as the time associated with each row,\n",
    "# and the \"channel\" column as the entity associated with each row.\n",
    "raw_msgs = kd.sources.Parquet(\n",
    "    \"/Users/eric.pinzur/Documents/slackbot2000/kaskada_slack.parquet\",\n",
    "    time_column = \"ts\",\n",
    "    key_column = \"channel\",\n",
    "    time_unit = \"s\"\n",
    ").remove(\"reply_users\")\n",
    "raw_msgs.preview(5)"
   ]
  },
  {
   "cell_type": "code",
   "execution_count": 5,
   "metadata": {},
   "outputs": [
    {
     "name": "stderr",
     "output_type": "stream",
     "text": [
      "thread 'tokio-runtime-worker' panicked at 'Cannot start a runtime from within a runtime. This happens because a function (like `block_on`) attempted to block the current thread while the thread is being used to drive asynchronous tasks.', /Users/runner/.cargo/registry/src/index.crates.io-6f17d22bba15001f/tokio-1.29.1/src/runtime/scheduler/multi_thread/mod.rs:86:9\n",
      "note: run with `RUST_BACKTRACE=1` environment variable to display a backtrace\n",
      "--- PyO3 is resuming a panic after fetching a PanicException from Python. ---\n",
      "Python stack trace below:\n"
     ]
    },
    {
     "ename": "PanicException",
     "evalue": "Cannot start a runtime from within a runtime. This happens because a function (like `block_on`) attempted to block the current thread while the thread is being used to drive asynchronous tasks.",
     "output_type": "error",
     "traceback": [
      "\u001b[0;31m---------------------------------------------------------------------------\u001b[0m",
      "\u001b[0;31mPanicException\u001b[0m                            Traceback (most recent call last)",
      "File \u001b[0;32m~/.pyenv/versions/3.11.4/lib/python3.11/site-packages/kaskada/udf.py:39\u001b[0m, in \u001b[0;36mudf.<locals>.decorator.<locals>.func\u001b[0;34m(result_type, *args)\u001b[0m\n\u001b[1;32m     38\u001b[0m \u001b[39mdef\u001b[39;00m \u001b[39mfunc\u001b[39m(result_type, \u001b[39m*\u001b[39margs):\n\u001b[0;32m---> 39\u001b[0m     \u001b[39mreturn\u001b[39;00m _converted_func(user_func, result_type, \u001b[39m*\u001b[39;49margs)\n",
      "File \u001b[0;32m~/.pyenv/versions/3.11.4/lib/python3.11/site-packages/kaskada/udf.py:60\u001b[0m, in \u001b[0;36m_converted_func\u001b[0;34m(user_func, result_type, *args)\u001b[0m\n\u001b[1;32m     56\u001b[0m \u001b[39m# TODO: I believe this will return a series for simple arrays, and a\u001b[39;00m\n\u001b[1;32m     57\u001b[0m \u001b[39m# dataframe for struct arrays. We should explore how this handles\u001b[39;00m\n\u001b[1;32m     58\u001b[0m \u001b[39m# different types.\u001b[39;00m\n\u001b[1;32m     59\u001b[0m pd_args \u001b[39m=\u001b[39m [arg\u001b[39m.\u001b[39mto_pandas() \u001b[39mfor\u001b[39;00m arg \u001b[39min\u001b[39;00m args]\n\u001b[0;32m---> 60\u001b[0m pd_result \u001b[39m=\u001b[39m user_func(\u001b[39m*\u001b[39;49mpd_args)\n\u001b[1;32m     62\u001b[0m \u001b[39mif\u001b[39;00m \u001b[39misinstance\u001b[39m(pd_result, pd\u001b[39m.\u001b[39mSeries):\n\u001b[1;32m     63\u001b[0m     \u001b[39mreturn\u001b[39;00m pa\u001b[39m.\u001b[39mArray\u001b[39m.\u001b[39mfrom_pandas(pd_result, \u001b[39mtype\u001b[39m\u001b[39m=\u001b[39mresult_type)\n",
      "\u001b[1;32m/Users/eric.pinzur/src/github.com/kaskada-ai/beep-gpt/Error: cannot start a runtime inside a runtime.ipynb Cell 7\u001b[0m line \u001b[0;36m2\n\u001b[1;32m     <a href='vscode-notebook-cell:/Users/eric.pinzur/src/github.com/kaskada-ai/beep-gpt/Error%3A%20cannot%20start%20a%20runtime%20inside%20a%20runtime.ipynb#X11sZmlsZQ%3D%3D?line=18'>19</a>\u001b[0m \u001b[39m@kd\u001b[39m\u001b[39m.\u001b[39mudf(\u001b[39m\"\u001b[39m\u001b[39mf<N: any>(x: N) -> string\u001b[39m\u001b[39m\"\u001b[39m)\n\u001b[1;32m     <a href='vscode-notebook-cell:/Users/eric.pinzur/src/github.com/kaskada-ai/beep-gpt/Error%3A%20cannot%20start%20a%20runtime%20inside%20a%20runtime.ipynb#X11sZmlsZQ%3D%3D?line=19'>20</a>\u001b[0m \u001b[39mdef\u001b[39;00m \u001b[39mclean_text\u001b[39m(batch: pd\u001b[39m.\u001b[39mSeries):\n\u001b[1;32m     <a href='vscode-notebook-cell:/Users/eric.pinzur/src/github.com/kaskada-ai/beep-gpt/Error%3A%20cannot%20start%20a%20runtime%20inside%20a%20runtime.ipynb#X11sZmlsZQ%3D%3D?line=20'>21</a>\u001b[0m     \u001b[39m# Apply to each row in the batch\u001b[39;00m\n\u001b[0;32m---> <a href='vscode-notebook-cell:/Users/eric.pinzur/src/github.com/kaskada-ai/beep-gpt/Error%3A%20cannot%20start%20a%20runtime%20inside%20a%20runtime.ipynb#X11sZmlsZQ%3D%3D?line=21'>22</a>\u001b[0m     \u001b[39mreturn\u001b[39;00m batch\u001b[39m.\u001b[39;49mmap(clean_message)\n",
      "File \u001b[0;32m~/.pyenv/versions/3.11.4/lib/python3.11/site-packages/pandas/core/series.py:4540\u001b[0m, in \u001b[0;36mSeries.map\u001b[0;34m(self, arg, na_action)\u001b[0m\n\u001b[1;32m   4460\u001b[0m \u001b[39mdef\u001b[39;00m \u001b[39mmap\u001b[39m(\n\u001b[1;32m   4461\u001b[0m     \u001b[39mself\u001b[39m,\n\u001b[1;32m   4462\u001b[0m     arg: Callable \u001b[39m|\u001b[39m Mapping \u001b[39m|\u001b[39m Series,\n\u001b[1;32m   4463\u001b[0m     na_action: Literal[\u001b[39m\"\u001b[39m\u001b[39mignore\u001b[39m\u001b[39m\"\u001b[39m] \u001b[39m|\u001b[39m \u001b[39mNone\u001b[39;00m \u001b[39m=\u001b[39m \u001b[39mNone\u001b[39;00m,\n\u001b[1;32m   4464\u001b[0m ) \u001b[39m-\u001b[39m\u001b[39m>\u001b[39m Series:\n\u001b[1;32m   4465\u001b[0m \u001b[39m    \u001b[39m\u001b[39m\"\"\"\u001b[39;00m\n\u001b[1;32m   4466\u001b[0m \u001b[39m    Map values of Series according to an input mapping or function.\u001b[39;00m\n\u001b[1;32m   4467\u001b[0m \n\u001b[0;32m   (...)\u001b[0m\n\u001b[1;32m   4538\u001b[0m \u001b[39m    dtype: object\u001b[39;00m\n\u001b[1;32m   4539\u001b[0m \u001b[39m    \"\"\"\u001b[39;00m\n\u001b[0;32m-> 4540\u001b[0m     new_values \u001b[39m=\u001b[39m \u001b[39mself\u001b[39;49m\u001b[39m.\u001b[39;49m_map_values(arg, na_action\u001b[39m=\u001b[39;49mna_action)\n\u001b[1;32m   4541\u001b[0m     \u001b[39mreturn\u001b[39;00m \u001b[39mself\u001b[39m\u001b[39m.\u001b[39m_constructor(new_values, index\u001b[39m=\u001b[39m\u001b[39mself\u001b[39m\u001b[39m.\u001b[39mindex, copy\u001b[39m=\u001b[39m\u001b[39mFalse\u001b[39;00m)\u001b[39m.\u001b[39m__finalize__(\n\u001b[1;32m   4542\u001b[0m         \u001b[39mself\u001b[39m, method\u001b[39m=\u001b[39m\u001b[39m\"\u001b[39m\u001b[39mmap\u001b[39m\u001b[39m\"\u001b[39m\n\u001b[1;32m   4543\u001b[0m     )\n",
      "File \u001b[0;32m~/.pyenv/versions/3.11.4/lib/python3.11/site-packages/pandas/core/base.py:921\u001b[0m, in \u001b[0;36mIndexOpsMixin._map_values\u001b[0;34m(self, mapper, na_action, convert)\u001b[0m\n\u001b[1;32m    918\u001b[0m \u001b[39mif\u001b[39;00m \u001b[39misinstance\u001b[39m(arr, ExtensionArray):\n\u001b[1;32m    919\u001b[0m     \u001b[39mreturn\u001b[39;00m arr\u001b[39m.\u001b[39mmap(mapper, na_action\u001b[39m=\u001b[39mna_action)\n\u001b[0;32m--> 921\u001b[0m \u001b[39mreturn\u001b[39;00m algorithms\u001b[39m.\u001b[39;49mmap_array(arr, mapper, na_action\u001b[39m=\u001b[39;49mna_action, convert\u001b[39m=\u001b[39;49mconvert)\n",
      "File \u001b[0;32m~/.pyenv/versions/3.11.4/lib/python3.11/site-packages/pandas/core/algorithms.py:1814\u001b[0m, in \u001b[0;36mmap_array\u001b[0;34m(arr, mapper, na_action, convert)\u001b[0m\n\u001b[1;32m   1812\u001b[0m values \u001b[39m=\u001b[39m arr\u001b[39m.\u001b[39mastype(\u001b[39mobject\u001b[39m, copy\u001b[39m=\u001b[39m\u001b[39mFalse\u001b[39;00m)\n\u001b[1;32m   1813\u001b[0m \u001b[39mif\u001b[39;00m na_action \u001b[39mis\u001b[39;00m \u001b[39mNone\u001b[39;00m:\n\u001b[0;32m-> 1814\u001b[0m     \u001b[39mreturn\u001b[39;00m lib\u001b[39m.\u001b[39;49mmap_infer(values, mapper, convert\u001b[39m=\u001b[39;49mconvert)\n\u001b[1;32m   1815\u001b[0m \u001b[39melse\u001b[39;00m:\n\u001b[1;32m   1816\u001b[0m     \u001b[39mreturn\u001b[39;00m lib\u001b[39m.\u001b[39mmap_infer_mask(\n\u001b[1;32m   1817\u001b[0m         values, mapper, mask\u001b[39m=\u001b[39misna(values)\u001b[39m.\u001b[39mview(np\u001b[39m.\u001b[39muint8), convert\u001b[39m=\u001b[39mconvert\n\u001b[1;32m   1818\u001b[0m     )\n",
      "File \u001b[0;32mlib.pyx:2917\u001b[0m, in \u001b[0;36mpandas._libs.lib.map_infer\u001b[0;34m()\u001b[0m\n",
      "\u001b[1;32m/Users/eric.pinzur/src/github.com/kaskada-ai/beep-gpt/Error: cannot start a runtime inside a runtime.ipynb Cell 7\u001b[0m line \u001b[0;36m1\n\u001b[1;32m     <a href='vscode-notebook-cell:/Users/eric.pinzur/src/github.com/kaskada-ai/beep-gpt/Error%3A%20cannot%20start%20a%20runtime%20inside%20a%20runtime.ipynb#X11sZmlsZQ%3D%3D?line=14'>15</a>\u001b[0m \u001b[39mdef\u001b[39;00m \u001b[39mclean_message\u001b[39m(text):\n\u001b[0;32m---> <a href='vscode-notebook-cell:/Users/eric.pinzur/src/github.com/kaskada-ai/beep-gpt/Error%3A%20cannot%20start%20a%20runtime%20inside%20a%20runtime.ipynb#X11sZmlsZQ%3D%3D?line=15'>16</a>\u001b[0m         text \u001b[39m=\u001b[39m strip_code_blocks(format_user(text))\u001b[39m.\u001b[39mstrip()\n\u001b[1;32m     <a href='vscode-notebook-cell:/Users/eric.pinzur/src/github.com/kaskada-ai/beep-gpt/Error%3A%20cannot%20start%20a%20runtime%20inside%20a%20runtime.ipynb#X11sZmlsZQ%3D%3D?line=16'>17</a>\u001b[0m         \u001b[39mreturn\u001b[39;00m \u001b[39mNone\u001b[39;00m \u001b[39mif\u001b[39;00m text \u001b[39m==\u001b[39m \u001b[39m\"\u001b[39m\u001b[39m\"\u001b[39m \u001b[39melse\u001b[39;00m text\n",
      "\u001b[1;32m/Users/eric.pinzur/src/github.com/kaskada-ai/beep-gpt/Error: cannot start a runtime inside a runtime.ipynb Cell 7\u001b[0m line \u001b[0;36m1\n\u001b[1;32m     <a href='vscode-notebook-cell:/Users/eric.pinzur/src/github.com/kaskada-ai/beep-gpt/Error%3A%20cannot%20start%20a%20runtime%20inside%20a%20runtime.ipynb#X11sZmlsZQ%3D%3D?line=11'>12</a>\u001b[0m \u001b[39mdef\u001b[39;00m \u001b[39mformat_user\u001b[39m(line):\n\u001b[0;32m---> <a href='vscode-notebook-cell:/Users/eric.pinzur/src/github.com/kaskada-ai/beep-gpt/Error%3A%20cannot%20start%20a%20runtime%20inside%20a%20runtime.ipynb#X11sZmlsZQ%3D%3D?line=12'>13</a>\u001b[0m     \u001b[39mreturn\u001b[39;00m re\u001b[39m.\u001b[39;49msub(\u001b[39mr\u001b[39;49m\u001b[39m\"\u001b[39;49m\u001b[39m<@(.*?)>\u001b[39;49m\u001b[39m\"\u001b[39;49m, user_repl, line)\n",
      "File \u001b[0;32m~/.pyenv/versions/3.11.4/lib/python3.11/re/__init__.py:185\u001b[0m, in \u001b[0;36msub\u001b[0;34m(pattern, repl, string, count, flags)\u001b[0m\n\u001b[1;32m    178\u001b[0m \u001b[39mdef\u001b[39;00m \u001b[39msub\u001b[39m(pattern, repl, string, count\u001b[39m=\u001b[39m\u001b[39m0\u001b[39m, flags\u001b[39m=\u001b[39m\u001b[39m0\u001b[39m):\n\u001b[1;32m    179\u001b[0m \u001b[39m    \u001b[39m\u001b[39m\"\"\"Return the string obtained by replacing the leftmost\u001b[39;00m\n\u001b[1;32m    180\u001b[0m \u001b[39m    non-overlapping occurrences of the pattern in string by the\u001b[39;00m\n\u001b[1;32m    181\u001b[0m \u001b[39m    replacement repl.  repl can be either a string or a callable;\u001b[39;00m\n\u001b[1;32m    182\u001b[0m \u001b[39m    if a string, backslash escapes in it are processed.  If it is\u001b[39;00m\n\u001b[1;32m    183\u001b[0m \u001b[39m    a callable, it's passed the Match object and must return\u001b[39;00m\n\u001b[1;32m    184\u001b[0m \u001b[39m    a replacement string to be used.\"\"\"\u001b[39;00m\n\u001b[0;32m--> 185\u001b[0m     \u001b[39mreturn\u001b[39;00m _compile(pattern, flags)\u001b[39m.\u001b[39;49msub(repl, string, count)\n",
      "\u001b[1;32m/Users/eric.pinzur/src/github.com/kaskada-ai/beep-gpt/Error: cannot start a runtime inside a runtime.ipynb Cell 7\u001b[0m line \u001b[0;36m9\n\u001b[1;32m      <a href='vscode-notebook-cell:/Users/eric.pinzur/src/github.com/kaskada-ai/beep-gpt/Error%3A%20cannot%20start%20a%20runtime%20inside%20a%20runtime.ipynb#X11sZmlsZQ%3D%3D?line=6'>7</a>\u001b[0m \u001b[39mdef\u001b[39;00m \u001b[39muser_repl\u001b[39m(match_obj):\n\u001b[1;32m      <a href='vscode-notebook-cell:/Users/eric.pinzur/src/github.com/kaskada-ai/beep-gpt/Error%3A%20cannot%20start%20a%20runtime%20inside%20a%20runtime.ipynb#X11sZmlsZQ%3D%3D?line=7'>8</a>\u001b[0m     user_id \u001b[39m=\u001b[39m match_obj\u001b[39m.\u001b[39mgroup(\u001b[39m1\u001b[39m)\n\u001b[0;32m----> <a href='vscode-notebook-cell:/Users/eric.pinzur/src/github.com/kaskada-ai/beep-gpt/Error%3A%20cannot%20start%20a%20runtime%20inside%20a%20runtime.ipynb#X11sZmlsZQ%3D%3D?line=8'>9</a>\u001b[0m     user \u001b[39m=\u001b[39m get_user(user_id)\n\u001b[1;32m     <a href='vscode-notebook-cell:/Users/eric.pinzur/src/github.com/kaskada-ai/beep-gpt/Error%3A%20cannot%20start%20a%20runtime%20inside%20a%20runtime.ipynb#X11sZmlsZQ%3D%3D?line=9'>10</a>\u001b[0m     \u001b[39mreturn\u001b[39;00m \u001b[39mf\u001b[39m\u001b[39m\"\u001b[39m\u001b[39m{\u001b[39;00muser\u001b[39m.\u001b[39mname\u001b[39m}\u001b[39;00m\u001b[39m (\u001b[39m\u001b[39m{\u001b[39;00muser_id\u001b[39m}\u001b[39;00m\u001b[39m)\u001b[39m\u001b[39m\"\u001b[39m \u001b[39mif\u001b[39;00m user \u001b[39melse\u001b[39;00m \u001b[39mf\u001b[39m\u001b[39m\"\u001b[39m\u001b[39m(\u001b[39m\u001b[39m{\u001b[39;00muser_id\u001b[39m}\u001b[39;00m\u001b[39m)\u001b[39m\u001b[39m\"\u001b[39m\n",
      "\u001b[1;32m/Users/eric.pinzur/src/github.com/kaskada-ai/beep-gpt/Error: cannot start a runtime inside a runtime.ipynb Cell 7\u001b[0m line \u001b[0;36m2\n\u001b[1;32m      <a href='vscode-notebook-cell:/Users/eric.pinzur/src/github.com/kaskada-ai/beep-gpt/Error%3A%20cannot%20start%20a%20runtime%20inside%20a%20runtime.ipynb#X11sZmlsZQ%3D%3D?line=0'>1</a>\u001b[0m \u001b[39mdef\u001b[39;00m \u001b[39mget_user\u001b[39m(user_id):\n\u001b[0;32m----> <a href='vscode-notebook-cell:/Users/eric.pinzur/src/github.com/kaskada-ai/beep-gpt/Error%3A%20cannot%20start%20a%20runtime%20inside%20a%20runtime.ipynb#X11sZmlsZQ%3D%3D?line=1'>2</a>\u001b[0m     data \u001b[39m=\u001b[39m users\u001b[39m.\u001b[39;49mfilter(users\u001b[39m.\u001b[39;49mcol(\u001b[39m\"\u001b[39;49m\u001b[39mid\u001b[39;49m\u001b[39m\"\u001b[39;49m)\u001b[39m.\u001b[39;49meq(user_id))\u001b[39m.\u001b[39;49mlast()\u001b[39m.\u001b[39;49mpreview()\u001b[39m.\u001b[39mto_dict(orient\u001b[39m=\u001b[39m\u001b[39m'\u001b[39m\u001b[39mindex\u001b[39m\u001b[39m'\u001b[39m)\n\u001b[1;32m      <a href='vscode-notebook-cell:/Users/eric.pinzur/src/github.com/kaskada-ai/beep-gpt/Error%3A%20cannot%20start%20a%20runtime%20inside%20a%20runtime.ipynb#X11sZmlsZQ%3D%3D?line=2'>3</a>\u001b[0m     \u001b[39mreturn\u001b[39;00m data[\u001b[39m0\u001b[39m] \u001b[39mif\u001b[39;00m \u001b[39mlen\u001b[39m(data) \u001b[39m==\u001b[39m \u001b[39m1\u001b[39m \u001b[39melse\u001b[39;00m \u001b[39mNone\u001b[39;00m\n",
      "File \u001b[0;32m~/.pyenv/versions/3.11.4/lib/python3.11/site-packages/kaskada/_timestream.py:1036\u001b[0m, in \u001b[0;36mTimestream.preview\u001b[0;34m(self, limit, results)\u001b[0m\n\u001b[1;32m   1025\u001b[0m \u001b[39mdef\u001b[39;00m \u001b[39mpreview\u001b[39m(\n\u001b[1;32m   1026\u001b[0m     \u001b[39mself\u001b[39m,\n\u001b[1;32m   1027\u001b[0m     limit: \u001b[39mint\u001b[39m \u001b[39m=\u001b[39m \u001b[39m10\u001b[39m,\n\u001b[1;32m   1028\u001b[0m     results: Optional[Union[kd\u001b[39m.\u001b[39mresults\u001b[39m.\u001b[39mHistory, kd\u001b[39m.\u001b[39mresults\u001b[39m.\u001b[39mSnapshot]] \u001b[39m=\u001b[39m \u001b[39mNone\u001b[39;00m,\n\u001b[1;32m   1029\u001b[0m ) \u001b[39m-\u001b[39m\u001b[39m>\u001b[39m pd\u001b[39m.\u001b[39mDataFrame:\n\u001b[1;32m   1030\u001b[0m \u001b[39m    \u001b[39m\u001b[39m\"\"\"Preview the points in this TimeStream as a DataFrame.\u001b[39;00m\n\u001b[1;32m   1031\u001b[0m \n\u001b[1;32m   1032\u001b[0m \u001b[39m    Args:\u001b[39;00m\n\u001b[1;32m   1033\u001b[0m \u001b[39m        limit: The number of points to preview.\u001b[39;00m\n\u001b[1;32m   1034\u001b[0m \u001b[39m        results: The results to produce. Defaults to `Histroy()` producing all points.\u001b[39;00m\n\u001b[1;32m   1035\u001b[0m \u001b[39m    \"\"\"\u001b[39;00m\n\u001b[0;32m-> 1036\u001b[0m     \u001b[39mreturn\u001b[39;00m \u001b[39mself\u001b[39;49m\u001b[39m.\u001b[39;49mto_pandas(results, row_limit\u001b[39m=\u001b[39;49mlimit)\n",
      "File \u001b[0;32m~/.pyenv/versions/3.11.4/lib/python3.11/site-packages/kaskada/_timestream.py:1058\u001b[0m, in \u001b[0;36mTimestream.to_pandas\u001b[0;34m(self, results, row_limit)\u001b[0m\n\u001b[1;32m   1038\u001b[0m \u001b[39mdef\u001b[39;00m \u001b[39mto_pandas\u001b[39m(\n\u001b[1;32m   1039\u001b[0m     \u001b[39mself\u001b[39m,\n\u001b[1;32m   1040\u001b[0m     results: Optional[Union[kd\u001b[39m.\u001b[39mresults\u001b[39m.\u001b[39mHistory, kd\u001b[39m.\u001b[39mresults\u001b[39m.\u001b[39mSnapshot]] \u001b[39m=\u001b[39m \u001b[39mNone\u001b[39;00m,\n\u001b[1;32m   1041\u001b[0m     \u001b[39m*\u001b[39m,\n\u001b[1;32m   1042\u001b[0m     row_limit: Optional[\u001b[39mint\u001b[39m] \u001b[39m=\u001b[39m \u001b[39mNone\u001b[39;00m,\n\u001b[1;32m   1043\u001b[0m ) \u001b[39m-\u001b[39m\u001b[39m>\u001b[39m pd\u001b[39m.\u001b[39mDataFrame:\n\u001b[1;32m   1044\u001b[0m \u001b[39m    \u001b[39m\u001b[39m\"\"\"Execute the TimeStream with the given options and return a DataFrame.\u001b[39;00m\n\u001b[1;32m   1045\u001b[0m \n\u001b[1;32m   1046\u001b[0m \u001b[39m    Args:\u001b[39;00m\n\u001b[0;32m   (...)\u001b[0m\n\u001b[1;32m   1056\u001b[0m \u001b[39m        - :func:`run_iter`: For non-blocking (iterator or async iterator) execution.\u001b[39;00m\n\u001b[1;32m   1057\u001b[0m \u001b[39m    \"\"\"\u001b[39;00m\n\u001b[0;32m-> 1058\u001b[0m     execution \u001b[39m=\u001b[39m \u001b[39mself\u001b[39;49m\u001b[39m.\u001b[39;49m_execute(results, row_limit\u001b[39m=\u001b[39;49mrow_limit)\n\u001b[1;32m   1059\u001b[0m     batches \u001b[39m=\u001b[39m execution\u001b[39m.\u001b[39mcollect_pyarrow()\n\u001b[1;32m   1060\u001b[0m     table \u001b[39m=\u001b[39m pa\u001b[39m.\u001b[39mTable\u001b[39m.\u001b[39mfrom_batches(batches, schema\u001b[39m=\u001b[39mexecution\u001b[39m.\u001b[39mschema())\n",
      "File \u001b[0;32m~/.pyenv/versions/3.11.4/lib/python3.11/site-packages/kaskada/_timestream.py:1204\u001b[0m, in \u001b[0;36mTimestream._execute\u001b[0;34m(self, results, row_limit, max_batch_size, mode)\u001b[0m\n\u001b[1;32m   1202\u001b[0m \u001b[39melse\u001b[39;00m:\n\u001b[1;32m   1203\u001b[0m     \u001b[39mraise\u001b[39;00m \u001b[39mAssertionError\u001b[39;00m(\u001b[39mf\u001b[39m\u001b[39m\"\u001b[39m\u001b[39mUnhandled results type \u001b[39m\u001b[39m{\u001b[39;00mresults\u001b[39m!r}\u001b[39;00m\u001b[39m\"\u001b[39m)\n\u001b[0;32m-> 1204\u001b[0m \u001b[39mreturn\u001b[39;00m expr\u001b[39m.\u001b[39;49m_ffi_expr\u001b[39m.\u001b[39;49mexecute(options)\n",
      "\u001b[0;31mPanicException\u001b[0m: Cannot start a runtime from within a runtime. This happens because a function (like `block_on`) attempted to block the current thread while the thread is being used to drive asynchronous tasks."
     ]
    },
    {
     "ename": "RuntimeError",
     "evalue": "\u001b[1merror in kaskada Rust code\u001b[22m\n├╴at \u001b[3msrc/error.rs:54:21\u001b[23m\n│\n├─▶ \u001b[1mexecute query\u001b[22m\n│   ╰╴at \u001b[3m/Users/runner/work/kaskada/kaskada/crates/sparrow-session/src/session.rs:488:28\u001b[23m\n│\n├─▶ \u001b[1minternal compute error: failed to join compute threads\u001b[22m\n│   ╰╴at \u001b[3m/Users/runner/work/kaskada/kaskada/crates/sparrow-runtime/src/execute/compute_executor.rs:192:22\u001b[23m\n│\n├─▶ \u001b[1minternal compute error: panic in task\u001b[22m\n│   ├╴at \u001b[3m/Users/runner/work/kaskada/kaskada/crates/sparrow-runtime/src/util/join_task.rs:66:30\u001b[23m\n│   ╰╴task name \"scan[op=0]\"\n│\n╰─▶ \u001b[1mtask 50 panicked\u001b[22m\n    ╰╴at \u001b[3m/Users/runner/work/kaskada/kaskada/crates/sparrow-runtime/src/util/join_task.rs:65:30\u001b[23m",
     "output_type": "error",
     "traceback": [
      "\u001b[0;31m---------------------------------------------------------------------------\u001b[0m",
      "\u001b[0;31mRuntimeError\u001b[0m                              Traceback (most recent call last)",
      "\u001b[1;32m/Users/eric.pinzur/src/github.com/kaskada-ai/beep-gpt/Error: cannot start a runtime inside a runtime.ipynb Cell 7\u001b[0m line \u001b[0;36m2\n\u001b[1;32m     <a href='vscode-notebook-cell:/Users/eric.pinzur/src/github.com/kaskada-ai/beep-gpt/Error%3A%20cannot%20start%20a%20runtime%20inside%20a%20runtime.ipynb#X11sZmlsZQ%3D%3D?line=21'>22</a>\u001b[0m     \u001b[39mreturn\u001b[39;00m batch\u001b[39m.\u001b[39mmap(clean_message)\n\u001b[1;32m     <a href='vscode-notebook-cell:/Users/eric.pinzur/src/github.com/kaskada-ai/beep-gpt/Error%3A%20cannot%20start%20a%20runtime%20inside%20a%20runtime.ipynb#X11sZmlsZQ%3D%3D?line=23'>24</a>\u001b[0m cleaned \u001b[39m=\u001b[39m raw_msgs\u001b[39m.\u001b[39mextend({\u001b[39m\"\u001b[39m\u001b[39mtext\u001b[39m\u001b[39m\"\u001b[39m: raw_msgs\u001b[39m.\u001b[39mcol(\u001b[39m\"\u001b[39m\u001b[39mtext\u001b[39m\u001b[39m\"\u001b[39m)\u001b[39m.\u001b[39mpipe(clean_text)})\n\u001b[0;32m---> <a href='vscode-notebook-cell:/Users/eric.pinzur/src/github.com/kaskada-ai/beep-gpt/Error%3A%20cannot%20start%20a%20runtime%20inside%20a%20runtime.ipynb#X11sZmlsZQ%3D%3D?line=24'>25</a>\u001b[0m cleaned\u001b[39m.\u001b[39;49mpreview(\u001b[39m5\u001b[39;49m)\n",
      "File \u001b[0;32m~/.pyenv/versions/3.11.4/lib/python3.11/site-packages/kaskada/_timestream.py:1036\u001b[0m, in \u001b[0;36mTimestream.preview\u001b[0;34m(self, limit, results)\u001b[0m\n\u001b[1;32m   1025\u001b[0m \u001b[39mdef\u001b[39;00m \u001b[39mpreview\u001b[39m(\n\u001b[1;32m   1026\u001b[0m     \u001b[39mself\u001b[39m,\n\u001b[1;32m   1027\u001b[0m     limit: \u001b[39mint\u001b[39m \u001b[39m=\u001b[39m \u001b[39m10\u001b[39m,\n\u001b[1;32m   1028\u001b[0m     results: Optional[Union[kd\u001b[39m.\u001b[39mresults\u001b[39m.\u001b[39mHistory, kd\u001b[39m.\u001b[39mresults\u001b[39m.\u001b[39mSnapshot]] \u001b[39m=\u001b[39m \u001b[39mNone\u001b[39;00m,\n\u001b[1;32m   1029\u001b[0m ) \u001b[39m-\u001b[39m\u001b[39m>\u001b[39m pd\u001b[39m.\u001b[39mDataFrame:\n\u001b[1;32m   1030\u001b[0m \u001b[39m    \u001b[39m\u001b[39m\"\"\"Preview the points in this TimeStream as a DataFrame.\u001b[39;00m\n\u001b[1;32m   1031\u001b[0m \n\u001b[1;32m   1032\u001b[0m \u001b[39m    Args:\u001b[39;00m\n\u001b[1;32m   1033\u001b[0m \u001b[39m        limit: The number of points to preview.\u001b[39;00m\n\u001b[1;32m   1034\u001b[0m \u001b[39m        results: The results to produce. Defaults to `Histroy()` producing all points.\u001b[39;00m\n\u001b[1;32m   1035\u001b[0m \u001b[39m    \"\"\"\u001b[39;00m\n\u001b[0;32m-> 1036\u001b[0m     \u001b[39mreturn\u001b[39;00m \u001b[39mself\u001b[39;49m\u001b[39m.\u001b[39;49mto_pandas(results, row_limit\u001b[39m=\u001b[39;49mlimit)\n",
      "File \u001b[0;32m~/.pyenv/versions/3.11.4/lib/python3.11/site-packages/kaskada/_timestream.py:1059\u001b[0m, in \u001b[0;36mTimestream.to_pandas\u001b[0;34m(self, results, row_limit)\u001b[0m\n\u001b[1;32m   1044\u001b[0m \u001b[39m\u001b[39m\u001b[39m\"\"\"Execute the TimeStream with the given options and return a DataFrame.\u001b[39;00m\n\u001b[1;32m   1045\u001b[0m \n\u001b[1;32m   1046\u001b[0m \u001b[39mArgs:\u001b[39;00m\n\u001b[0;32m   (...)\u001b[0m\n\u001b[1;32m   1056\u001b[0m \u001b[39m    - :func:`run_iter`: For non-blocking (iterator or async iterator) execution.\u001b[39;00m\n\u001b[1;32m   1057\u001b[0m \u001b[39m\"\"\"\u001b[39;00m\n\u001b[1;32m   1058\u001b[0m execution \u001b[39m=\u001b[39m \u001b[39mself\u001b[39m\u001b[39m.\u001b[39m_execute(results, row_limit\u001b[39m=\u001b[39mrow_limit)\n\u001b[0;32m-> 1059\u001b[0m batches \u001b[39m=\u001b[39m execution\u001b[39m.\u001b[39;49mcollect_pyarrow()\n\u001b[1;32m   1060\u001b[0m table \u001b[39m=\u001b[39m pa\u001b[39m.\u001b[39mTable\u001b[39m.\u001b[39mfrom_batches(batches, schema\u001b[39m=\u001b[39mexecution\u001b[39m.\u001b[39mschema())\n\u001b[1;32m   1061\u001b[0m table \u001b[39m=\u001b[39m table\u001b[39m.\u001b[39mdrop_columns([\u001b[39m\"\u001b[39m\u001b[39m_subsort\u001b[39m\u001b[39m\"\u001b[39m, \u001b[39m\"\u001b[39m\u001b[39m_key_hash\u001b[39m\u001b[39m\"\u001b[39m])\n",
      "\u001b[0;31mRuntimeError\u001b[0m: \u001b[1merror in kaskada Rust code\u001b[22m\n├╴at \u001b[3msrc/error.rs:54:21\u001b[23m\n│\n├─▶ \u001b[1mexecute query\u001b[22m\n│   ╰╴at \u001b[3m/Users/runner/work/kaskada/kaskada/crates/sparrow-session/src/session.rs:488:28\u001b[23m\n│\n├─▶ \u001b[1minternal compute error: failed to join compute threads\u001b[22m\n│   ╰╴at \u001b[3m/Users/runner/work/kaskada/kaskada/crates/sparrow-runtime/src/execute/compute_executor.rs:192:22\u001b[23m\n│\n├─▶ \u001b[1minternal compute error: panic in task\u001b[22m\n│   ├╴at \u001b[3m/Users/runner/work/kaskada/kaskada/crates/sparrow-runtime/src/util/join_task.rs:66:30\u001b[23m\n│   ╰╴task name \"scan[op=0]\"\n│\n╰─▶ \u001b[1mtask 50 panicked\u001b[22m\n    ╰╴at \u001b[3m/Users/runner/work/kaskada/kaskada/crates/sparrow-runtime/src/util/join_task.rs:65:30\u001b[23m"
     ]
    }
   ],
   "source": [
    "# Clean Text\n",
    "import re\n",
    "\n",
    "def strip_code_blocks(line):\n",
    "    return re.sub(r\"```.*?```\", '', line)\n",
    "\n",
    "def user_repl(match_obj):\n",
    "    user_id = match_obj.group(1)\n",
    "    user = get_user(user_id)\n",
    "    return f\"{user.name} ({user_id})\" if user else f\"({user_id})\"\n",
    "\n",
    "def format_user(line):\n",
    "    return re.sub(r\"<@(.*?)>\", user_repl, line)\n",
    "\n",
    "def clean_message(text):\n",
    "        text = strip_code_blocks(format_user(text)).strip()\n",
    "        return None if text == \"\" else text\n",
    "\n",
    "@kd.udf(\"f<N: any>(x: N) -> string\")\n",
    "def clean_text(batch: pd.Series):\n",
    "    # Apply to each row in the batch\n",
    "    return batch.map(clean_message)\n",
    "\n",
    "cleaned = raw_msgs.extend({\"text\": raw_msgs.col(\"text\").pipe(clean_text)})\n",
    "cleaned.preview(5)"
   ]
  }
 ],
 "metadata": {
  "kernelspec": {
   "display_name": "Python 3",
   "language": "python",
   "name": "python3"
  },
  "language_info": {
   "codemirror_mode": {
    "name": "ipython",
    "version": 3
   },
   "file_extension": ".py",
   "mimetype": "text/x-python",
   "name": "python",
   "nbconvert_exporter": "python",
   "pygments_lexer": "ipython3",
   "version": "3.11.4"
  }
 },
 "nbformat": 4,
 "nbformat_minor": 2
}
